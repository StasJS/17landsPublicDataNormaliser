{
 "cells": [
  {
   "cell_type": "code",
   "execution_count": 1,
   "metadata": {
    "dotnet_interactive": {
     "language": "csharp"
    },
    "polyglot_notebook": {
     "kernelName": "csharp"
    }
   },
   "outputs": [],
   "source": [
    "#r \"bin\\Debug\\net8.0\\MtgDraftAnalyser.dll\"\n"
   ]
  },
  {
   "cell_type": "code",
   "execution_count": 2,
   "metadata": {
    "dotnet_interactive": {
     "language": "csharp"
    },
    "polyglot_notebook": {
     "kernelName": "csharp"
    }
   },
   "outputs": [
    {
     "name": "stdout",
     "output_type": "stream",
     "text": [
      "170567\r\n"
     ]
    }
   ],
   "source": [
    "using Model;\n",
    "using IO;\n",
    "\n",
    "var drafts = JsonIO.DeserializeDraftsFromFile(\"draft_data_public.WOE.PremierDraft\");\n",
    "Console.WriteLine(drafts.Count);"
   ]
  },
  {
   "cell_type": "code",
   "execution_count": 5,
   "metadata": {
    "dotnet_interactive": {
     "language": "csharp"
    },
    "polyglot_notebook": {
     "kernelName": "csharp"
    }
   },
   "outputs": [
    {
     "name": "stdout",
     "output_type": "stream",
     "text": [
      "{ FirstPick = Card { CardName = Candy Grapple }, NumTrophies = 544, Count = 4790 }\n",
      "{ FirstPick = Card { CardName = Imodane's Recruiter }, NumTrophies = 501, Count = 3776 }\n",
      "{ FirstPick = Card { CardName = Torch the Tower }, NumTrophies = 447, Count = 4135 }\n",
      "{ FirstPick = Card { CardName = Redcap Gutter-Dweller }, NumTrophies = 359, Count = 2392 }\n",
      "{ FirstPick = Card { CardName = Gruff Triplets }, NumTrophies = 342, Count = 2460 }\n",
      "{ FirstPick = Card { CardName = Gingerbread Hunter }, NumTrophies = 316, Count = 2944 }\n",
      "{ FirstPick = Card { CardName = Lord Skitter, Sewer King }, NumTrophies = 309, Count = 2360 }\n",
      "{ FirstPick = Card { CardName = Faunsbane Troll }, NumTrophies = 284, Count = 2323 }\n",
      "{ FirstPick = Card { CardName = Gumdrop Poisoner }, NumTrophies = 282, Count = 2326 }\n",
      "{ FirstPick = Card { CardName = Mosswood Dreadknight }, NumTrophies = 266, Count = 2312 }\n"
     ]
    }
   ],
   "source": [
    "using Model;\n",
    "\n",
    "public static void FirstPickWinRate(IList<Draft> drafts)\n",
    "{\n",
    "    var firstPickTrophies = drafts.GroupBy(d => d.Pool.Cards[0], (firstPick, drafts) => new\n",
    "    {\n",
    "        FirstPick = firstPick,\n",
    "        NumTrophies = drafts.Count(d => d.DraftResult.Wins == 7),\n",
    "        Count = drafts.Count()\n",
    "    });\n",
    "\n",
    "    var bestFirstPicks = firstPickTrophies.Where(fpwr => fpwr.Count > 100).OrderByDescending(fpwr => fpwr.NumTrophies).Take(10)!;\n",
    "\n",
    "    foreach (var bfp in bestFirstPicks)\n",
    "    {\n",
    "        Console.WriteLine(bfp);\n",
    "    }\n",
    "}\n",
    "\n",
    "FirstPickWinRate(drafts);"
   ]
  }
 ],
 "metadata": {
  "kernelspec": {
   "display_name": ".NET (C#)",
   "language": "C#",
   "name": ".net-csharp"
  },
  "language_info": {
   "name": "polyglot-notebook"
  },
  "polyglot_notebook": {
   "kernelInfo": {
    "defaultKernelName": "csharp",
    "items": [
     {
      "aliases": [],
      "languageName": "csharp",
      "name": "csharp"
     }
    ]
   }
  }
 },
 "nbformat": 4,
 "nbformat_minor": 2
}
